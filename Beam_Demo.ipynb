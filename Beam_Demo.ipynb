{
  "nbformat": 4,
  "nbformat_minor": 0,
  "metadata": {
    "colab": {
      "name": "Beam_Demo.ipynb",
      "provenance": [],
      "mount_file_id": "14obLyqMNBa1_JyIsjTB9Pyv4R2QuUwuU",
      "authorship_tag": "ABX9TyNm+MXI0wA/FwAvLjMg3yZN",
      "include_colab_link": true
    },
    "kernelspec": {
      "name": "python3",
      "display_name": "Python 3"
    }
  },
  "cells": [
    {
      "cell_type": "markdown",
      "metadata": {
        "id": "view-in-github",
        "colab_type": "text"
      },
      "source": [
        "<a href=\"https://colab.research.google.com/github/salvatore-dacunto/beam_demo/blob/master/Beam_Demo.ipynb\" target=\"_parent\"><img src=\"https://colab.research.google.com/assets/colab-badge.svg\" alt=\"Open In Colab\"/></a>"
      ]
    },
    {
      "cell_type": "code",
      "metadata": {
        "id": "xTaer9kPHzrA",
        "colab_type": "code",
        "colab": {}
      },
      "source": [
        "! pip install apache-beam[interactive]"
      ],
      "execution_count": null,
      "outputs": []
    },
    {
      "cell_type": "markdown",
      "metadata": {
        "id": "uUplDXzZWKOm",
        "colab_type": "text"
      },
      "source": [
        "#Movie Ratings"
      ]
    },
    {
      "cell_type": "code",
      "metadata": {
        "id": "AcYx3bAcIXOa",
        "colab_type": "code",
        "colab": {
          "base_uri": "https://localhost:8080/",
          "height": 34
        },
        "outputId": "f5fa9712-bc2b-4882-ff87-635b05a3bffb"
      },
      "source": [
        "# import apache beam\n",
        "import apache_beam as beam\n",
        "\n",
        "# create pipeline\n",
        "p1 = beam.Pipeline()\n",
        "\n",
        "rating_4 = (\n",
        "    p1\n",
        "    | beam.io.ReadFromText('movies_rating.txt', skip_header_lines = 1) # read movie rating file, skip header\n",
        "    | beam.Map(lambda record: record.split(',')) # split the records by comma delimeter\n",
        "    | beam.Filter(lambda record: float(record[2]) > 4) # filter for all records with a rating greater than 4\n",
        "    | beam.io.WriteToText('rating_4.txt') # write the results to file\n",
        ")\n",
        "\n",
        "p1.run()"
      ],
      "execution_count": 9,
      "outputs": [
        {
          "output_type": "execute_result",
          "data": {
            "text/plain": [
              "<apache_beam.runners.portability.fn_api_runner.fn_runner.RunnerResult at 0x7f0d6cc62208>"
            ]
          },
          "metadata": {
            "tags": []
          },
          "execution_count": 9
        }
      ]
    },
    {
      "cell_type": "code",
      "metadata": {
        "id": "huWzO3jTM3qj",
        "colab_type": "code",
        "colab": {
          "base_uri": "https://localhost:8080/",
          "height": 34
        },
        "outputId": "b5e88b20-a174-484f-d3f6-f62bd84cfa09"
      },
      "source": [
        "! cat /content/rating_4.txt-00000-of-00001"
      ],
      "execution_count": 3,
      "outputs": [
        {
          "output_type": "stream",
          "text": [
            "['3', 'SpiderMan', '4.5']\n"
          ],
          "name": "stdout"
        }
      ]
    },
    {
      "cell_type": "markdown",
      "metadata": {
        "id": "rz76CtnmWPD5",
        "colab_type": "text"
      },
      "source": [
        "#Word Counts"
      ]
    },
    {
      "cell_type": "code",
      "metadata": {
        "id": "-DGIseWcWVND",
        "colab_type": "code",
        "colab": {
          "base_uri": "https://localhost:8080/",
          "height": 34
        },
        "outputId": "b5da1724-4cd5-4168-dd0c-1aad812fc8e1"
      },
      "source": [
        "words = ['peter', 'piper', 'picked', 'peck', 'pepper']\n",
        "\n",
        "def find_word(element):\n",
        "  if element in words:\n",
        "    return True\n",
        "\n",
        "p2 = beam.Pipeline()\n",
        "\n",
        "results = (\n",
        "    p2\n",
        "    | beam.io.ReadFromText('Peter_Piper.txt')\n",
        "    | beam.FlatMap(lambda record: record.split(' '))\n",
        "    | beam.Filter(find_word)\n",
        "    | beam.Map(lambda record: (record,1))\n",
        "    | beam.CombinePerKey(sum)\n",
        "    | beam.io.WriteToText('PP_results.txt')\n",
        ")\n",
        "\n",
        "p2.run()"
      ],
      "execution_count": 19,
      "outputs": [
        {
          "output_type": "execute_result",
          "data": {
            "text/plain": [
              "<apache_beam.runners.portability.fn_api_runner.fn_runner.RunnerResult at 0x7f0d6f13e940>"
            ]
          },
          "metadata": {
            "tags": []
          },
          "execution_count": 19
        }
      ]
    },
    {
      "cell_type": "code",
      "metadata": {
        "id": "tq2RmgVKbkNf",
        "colab_type": "code",
        "colab": {
          "base_uri": "https://localhost:8080/",
          "height": 102
        },
        "outputId": "c95d0562-1100-46bc-8032-e4296b1db81d"
      },
      "source": [
        "! cat /content/PP_results.txt-00000-of-00001"
      ],
      "execution_count": 20,
      "outputs": [
        {
          "output_type": "stream",
          "text": [
            "('peter', 4)\n",
            "('piper', 4)\n",
            "('picked', 4)\n",
            "('peck', 4)\n",
            "('pepper', 4)\n"
          ],
          "name": "stdout"
        }
      ]
    },
    {
      "cell_type": "markdown",
      "metadata": {
        "id": "r4YsQhabdE2i",
        "colab_type": "text"
      },
      "source": [
        "# Customer Data Using Pardo"
      ]
    },
    {
      "cell_type": "code",
      "metadata": {
        "id": "na2dICf5dIWO",
        "colab_type": "code",
        "colab": {
          "base_uri": "https://localhost:8080/",
          "height": 34
        },
        "outputId": "38efdb9d-e284-414e-c3b2-fc875b42bb08"
      },
      "source": [
        "class SplitRow(beam.DoFn):\n",
        "  def process(self,element):\n",
        "    return [element.split(',')]\n",
        "\n",
        "class FilterCustomer(beam.DoFn):\n",
        "  def process(self,element):\n",
        "    if (element[2]) == 'NY' and (int(element[3]) > 20):\n",
        "      return [element]\n",
        "\n",
        "p3 = beam.Pipeline()\n",
        "result = (\n",
        "    p3\n",
        "    | 'Read your input file' >> beam.io.ReadFromText('Customers_age.txt')\n",
        "    | beam.ParDo(SplitRow())\n",
        "    | beam.ParDo(FilterCustomer())\n",
        "    | beam.io.WriteToText('customer_result.txt')\n",
        ")\n",
        "p3.run()"
      ],
      "execution_count": 25,
      "outputs": [
        {
          "output_type": "execute_result",
          "data": {
            "text/plain": [
              "<apache_beam.runners.portability.fn_api_runner.fn_runner.RunnerResult at 0x7f0d6ee29c18>"
            ]
          },
          "metadata": {
            "tags": []
          },
          "execution_count": 25
        }
      ]
    },
    {
      "cell_type": "code",
      "metadata": {
        "id": "FivlYmFIen91",
        "colab_type": "code",
        "colab": {
          "base_uri": "https://localhost:8080/",
          "height": 51
        },
        "outputId": "b91db334-99f1-45a6-9723-50f9dbbaa9d0"
      },
      "source": [
        "! cat /content/customer_result.txt-00000-of-00001"
      ],
      "execution_count": 26,
      "outputs": [
        {
          "output_type": "stream",
          "text": [
            "['1', 'John', 'NY', '22']\n",
            "['3', 'Mary', 'NY', '30']\n"
          ],
          "name": "stdout"
        }
      ]
    }
  ]
}